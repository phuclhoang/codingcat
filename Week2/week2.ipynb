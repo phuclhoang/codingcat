{
 "cells": [
  {
   "cell_type": "markdown",
   "metadata": {},
   "source": [
    "# --- First Steps ---\n"
   ]
  },
  {
   "cell_type": "markdown",
   "metadata": {},
   "source": [
    "### The Zen of Python\n"
   ]
  },
  {
   "cell_type": "code",
   "execution_count": null,
   "metadata": {},
   "outputs": [],
   "source": [
    "import this"
   ]
  },
  {
   "cell_type": "markdown",
   "metadata": {},
   "source": [
    "### Interpreter Prompt"
   ]
  },
  {
   "cell_type": "code",
   "execution_count": null,
   "metadata": {},
   "outputs": [],
   "source": [
    "# python3 into terminal to start a REPL (Read-Eval-Print Loop) session\n",
    "print(\"Hello World!\")\n",
    "quit() # quit REPL session. Alternative Ctrl-D,Z,C"
   ]
  },
  {
   "cell_type": "markdown",
   "metadata": {},
   "source": [
    "### Editor and Source File"
   ]
  },
  {
   "cell_type": "markdown",
   "metadata": {},
   "source": [
    "<center><strong>TODO</strong></center>\n",
    "\n",
    "- mkdir code\n",
    "- cd code\n",
    "- touch hello.py"
   ]
  },
  {
   "cell_type": "code",
   "execution_count": null,
   "metadata": {},
   "outputs": [],
   "source": [
    "# Save this statement to hello.py\n",
    "print(\"Hello World from a source file\") \n",
    "# In terminal, type python3 hello.py"
   ]
  },
  {
   "cell_type": "code",
   "execution_count": null,
   "metadata": {
    "tags": []
   },
   "outputs": [],
   "source": [
    "!mkdir code\n",
    "!touch code/hello.py\n",
    "!echo 'print(\"Hello World!\")' >> code/hello.py\n",
    "!python3 code/hello.py"
   ]
  },
  {
   "cell_type": "markdown",
   "metadata": {},
   "source": [
    "### Getting Help"
   ]
  },
  {
   "cell_type": "code",
   "execution_count": null,
   "metadata": {},
   "outputs": [],
   "source": [
    "help(print)\n",
    "print('*********************************************')\n",
    "help('keywords')"
   ]
  },
  {
   "cell_type": "markdown",
   "metadata": {},
   "source": [
    "# --- BASICS PYTHON 1 --- #"
   ]
  },
  {
   "cell_type": "markdown",
   "metadata": {},
   "source": [
    "### print()"
   ]
  },
  {
   "cell_type": "code",
   "execution_count": null,
   "metadata": {},
   "outputs": [],
   "source": [
    "print(\"1729 is a boring number, isn't it\", '?')\n",
    "print('No! ', end = '')\n",
    "print('It is the smallest number that can be expressed as sum of 2 cubes in 2 different ways')\n",
    "print('1','2','3', sep = ' < ')\n",
    "print('1','2','3', sep = ' > ', end = ' \\U0001F914')"
   ]
  },
  {
   "cell_type": "markdown",
   "metadata": {},
   "source": [
    "### Comment"
   ]
  },
  {
   "cell_type": "code",
   "execution_count": null,
   "metadata": {},
   "outputs": [],
   "source": [
    "# \"The 'Hello World' example is the traditional incantation to the programming gods \n",
    "# and will ensure your quick mastery of the language, \n",
    "# so please make sure you actually do this exercise, instead of just reading about it.\"\n",
    "print('Hello World!') # said Simon Cozens in \"Beginning Pearl\""
   ]
  },
  {
   "cell_type": "markdown",
   "metadata": {},
   "source": [
    "### Literal Constants"
   ]
  },
  {
   "cell_type": "code",
   "execution_count": null,
   "metadata": {},
   "outputs": [],
   "source": [
    "# Number\n",
    "\n",
    "# integer\n",
    "1\n",
    "1000000000000000000000000000000000000000\n",
    "print(type(1000000000000000000000000000000000000000))\n",
    "\n",
    "# float\n",
    "2.1\n",
    "0.999999\n",
    "0.99999999999999999999999999999999999999\n",
    "1.729e3\n",
    "1.729e3\n",
    "print(type(1.729e3))\n",
    "\n",
    "# complex number\n",
    "3+4j\n",
    "print(type(3+4j))"
   ]
  },
  {
   "cell_type": "code",
   "execution_count": null,
   "metadata": {},
   "outputs": [],
   "source": [
    "# String\n",
    "'Hello World!'\n",
    "\"Hello World!\"\n",
    "\"\"\"Hello\n",
    "\n",
    "World!\"\"\"\n",
    "print(type(\"Hello World!\"))\n",
    "\n",
    "print(\"\"\"Hello,\n",
    "\n",
    "World!\"\"\")"
   ]
  },
  {
   "cell_type": "code",
   "execution_count": null,
   "metadata": {},
   "outputs": [],
   "source": [
    "# Boolean\n",
    "True\n",
    "print(type(True))\n",
    "False"
   ]
  },
  {
   "cell_type": "markdown",
   "metadata": {},
   "source": [
    "### Basic Operation with Numbers"
   ]
  },
  {
   "cell_type": "code",
   "execution_count": null,
   "metadata": {
    "tags": []
   },
   "outputs": [],
   "source": [
    "# Arithmetic Operation and Expression\n",
    "print('17 + 29 =', 17+29)\n",
    "print('17 - 29 =', 17-29)\n",
    "print('17 + 29 =', 17*29)\n",
    "print('17 / 29 =', 17/29)\n",
    "print('17 // 29 =', 17//29)\n",
    "print('17 % 29 =', 17%29)\n",
    "print('17 ** 29 =', 17**29)\n",
    "\n",
    "(1+0.01)**365\n",
    "\n",
    "print(1**3+12**3)\n",
    "print(9**3+10**3)"
   ]
  },
  {
   "cell_type": "markdown",
   "metadata": {},
   "source": [
    "<center > <strong>The mistery uncovered</strong> </center>\n",
    "\n",
    "\\begin{equation*}\n",
    "1729 = 1^3 + 12^3\\\\\n",
    "1729 = 9^3 + 10^3\n",
    "\\end{equation*}\n"
   ]
  },
  {
   "cell_type": "code",
   "execution_count": null,
   "metadata": {},
   "outputs": [],
   "source": [
    "# Order of Evaluation\n",
    "print(2+4*4/2**3)\n",
    "print((2+4)*4/2**3)\n",
    "\n",
    "# loss-of-precision\n",
    "print({:.20f}.format(0.1))\n",
    "0.1.as_integer_ratio()\n",
    "bin(0.1.as_integer_ratio()[1])\n",
    "print((0.1+0.1+0.1) == 0.3)\n",
    "# overflow\n",
    "1.7e308\n",
    "1.8e308\n",
    "# underflow\n",
    "5e-324\n",
    "1e-325"
   ]
  },
  {
   "cell_type": "markdown",
   "metadata": {},
   "source": [
    "### Basic Operation with Strings"
   ]
  },
  {
   "cell_type": "code",
   "execution_count": null,
   "metadata": {},
   "outputs": [],
   "source": [
    "'coding'+'cat'\n",
    "'cat'+str(3)\n",
    "'cat'*3\n",
    "'codingcat'[6:]"
   ]
  },
  {
   "cell_type": "markdown",
   "metadata": {},
   "source": [
    "**Escape Sequence**"
   ]
  },
  {
   "cell_type": "markdown",
   "metadata": {},
   "source": [
    "|Escape sequence| Effect|\n",
    "|:- |:- |\n",
    "|\\\\' | \tSingle Quote \t|\n",
    "|\\\\\\ | \tBackslash \t|\n",
    "|\\n| \tNew Line \t|\n",
    "|\\r| \tCarriage Return \t|\n",
    "|\\t| \tTab \t|\n",
    "|\\b| \tBackspace \t|\n",
    "|\\f| \tForm Feed \t|\n",
    "|\\ooo| \tCharacter based on Octal value |\t\n",
    "|\\xhh| \tCharacter based on Hex value|\n",
    "|\\uxxxx |\tUnicode character with 16-bit hex value xxxx|\n",
    "|\\Uxxxxxxxx |\tUnicode character with 32-bit hex value xxxxxxxx|\n",
    "|\\N{name} |\tCharacter from Unicode database with given name|"
   ]
  },
  {
   "cell_type": "code",
   "execution_count": null,
   "metadata": {
    "tags": []
   },
   "outputs": [],
   "source": [
    "print(\"\\\"\")\n",
    "print(\"\\\\\")\n",
    "print(\"1234\\rabc\")\n",
    "print(\"1234\\b\\b\")\n",
    "print(\"\\044\")\n",
    "print(\"\\x32\")\n",
    "print(\"\\u041b\")\n",
    "print(\"\\U000001a9\")\n",
    "print(\"\\N{face with tears of joy}\")"
   ]
  },
  {
   "cell_type": "markdown",
   "metadata": {},
   "source": [
    "#### Format String"
   ]
  },
  {
   "cell_type": "code",
   "execution_count": null,
   "metadata": {},
   "outputs": [],
   "source": [
    "import math\n",
    "'{:.200f}'.format(math.pi)\n",
    "f'This is week{2}'"
   ]
  },
  {
   "cell_type": "markdown",
   "metadata": {},
   "source": [
    "<center><strong>DISPLAY multiplication_table.py </strong></center>"
   ]
  },
  {
   "cell_type": "markdown",
   "metadata": {},
   "source": [
    "<center> <strong>TODO rectangle.py</strong></center>\n",
    "\n",
    "Given width and height of a triangle, print out its Perimeter and Area"
   ]
  },
  {
   "cell_type": "markdown",
   "metadata": {},
   "source": [
    "### Data Types"
   ]
  },
  {
   "cell_type": "code",
   "execution_count": null,
   "metadata": {},
   "outputs": [],
   "source": [
    "dir(str)"
   ]
  },
  {
   "cell_type": "code",
   "execution_count": null,
   "metadata": {
    "tags": []
   },
   "outputs": [],
   "source": [
    "# Look up for str() attributes and functions\n",
    "help(str)\n",
    "help(str.__add__)\n",
    "help(str.zfill)"
   ]
  },
  {
   "cell_type": "code",
   "execution_count": null,
   "metadata": {},
   "outputs": [],
   "source": [
    "# Explore what we can do with str()\n",
    "\"Hello\".upper()\n",
    "\"123\".zfill(10)"
   ]
  },
  {
   "cell_type": "markdown",
   "metadata": {},
   "source": [
    "### Casting"
   ]
  },
  {
   "cell_type": "code",
   "execution_count": null,
   "metadata": {},
   "outputs": [],
   "source": [
    "# str()\n",
    "str(1729)"
   ]
  },
  {
   "cell_type": "code",
   "execution_count": null,
   "metadata": {},
   "outputs": [],
   "source": [
    "# int()\n",
    "int('1729')\n",
    "int('a')"
   ]
  },
  {
   "cell_type": "code",
   "execution_count": null,
   "metadata": {},
   "outputs": [],
   "source": [
    "# float()\n",
    "float(1729)\n",
    "float('1729')"
   ]
  },
  {
   "cell_type": "code",
   "execution_count": null,
   "metadata": {},
   "outputs": [],
   "source": [
    "# complex()\n",
    "complex(1729)\n",
    "complex(17.29)\n",
    "complex('17+29j')"
   ]
  },
  {
   "cell_type": "markdown",
   "metadata": {},
   "source": [
    "### Variable"
   ]
  },
  {
   "cell_type": "code",
   "execution_count": 1,
   "metadata": {
    "tags": []
   },
   "outputs": [
    {
     "output_type": "stream",
     "name": "stdout",
     "text": "Assigned x = 1729\nAssigned pi = 3.14, π = 3.14, Π = 3.14\n"
    }
   ],
   "source": [
    "# Assignment\n",
    "x = 1729\n",
    "print(\"Assigned x =\",x)\n",
    "\n",
    "pi = π = Π = 3.14\n",
    "print(f\"Assigned pi = {pi}, π = {π}, Π = {Π}\")"
   ]
  },
  {
   "cell_type": "code",
   "execution_count": 2,
   "metadata": {},
   "outputs": [
    {
     "output_type": "execute_result",
     "data": {
      "text/plain": "'0x7f6faf8bf430'"
     },
     "metadata": {},
     "execution_count": 2
    }
   ],
   "source": [
    "# Memory address\n",
    "hex(id(pi)) # base-16"
   ]
  },
  {
   "cell_type": "code",
   "execution_count": null,
   "metadata": {},
   "outputs": [],
   "source": [
    "# Name convention\n",
    "xy1 = 10\n",
    "_xy1 = 20\n",
    "xY1 = 10\n",
    "xY_1 = 10"
   ]
  },
  {
   "cell_type": "code",
   "execution_count": null,
   "metadata": {},
   "outputs": [],
   "source": [
    "1xy = 10\n",
    "class = 2024"
   ]
  },
  {
   "cell_type": "code",
   "execution_count": null,
   "metadata": {},
   "outputs": [],
   "source": [
    "# No keyword in naming variable\n",
    "help('keywords')"
   ]
  },
  {
   "cell_type": "markdown",
   "metadata": {},
   "source": [
    "<center> <strong>TODO rectangle.py</strong></center>\n",
    "\n",
    "Modify the rectangle.py script, now use variable to represent width and height lengths"
   ]
  },
  {
   "cell_type": "markdown",
   "metadata": {},
   "source": [
    "### Built-in function \n",
    "[1](#Reference:)\n",
    "\n",
    "### Some common use functions:"
   ]
  },
  {
   "cell_type": "markdown",
   "metadata": {},
   "source": [
    "#### Math\n",
    "|Function| \tDescription|\n",
    "| :- | --- |\n",
    "|abs()| \tReturns absolute value of a number\n",
    "|divmod()| \tReturns quotient and remainder of integer division\n",
    "|max()| \tReturns the largest of the given arguments or items in an iterable\n",
    "|min()| \tReturns the smallest of the given arguments or items in an iterable\n",
    "|pow()| \tRaises a number to a power\n",
    "|round()| \tRounds a floating-point value\n",
    "|sum()| \tSums the items of an iterable"
   ]
  },
  {
   "cell_type": "markdown",
   "metadata": {},
   "source": [
    "#### Type Conversion\n",
    "|Function| \tDescription|\n",
    "| :- | --- |\n",
    "|ascii()| \tReturns a string containing a printable representation of an object|\n",
    "|bin()| \tConverts an integer to a binary string|\n",
    "|bool()| \tConverts an argument to a Boolean value|\n",
    "|chr()| \tReturns string representation of character given by integer argument|\n",
    "|complex()| \tReturns a complex number constructed from arguments|\n",
    "|float()| \tReturns a floating-point object constructed from a number or string|\n",
    "|hex()| \tConverts an integer to a hexadecimal string|\n",
    "|int()| \tReturns an integer object constructed from a number or string|\n",
    "|oct()| \tConverts an integer to an octal string|\n",
    "|ord()| \tReturns integer representation of a character|\n",
    "|repr()| \tReturns a string containing a printable representation of an object|\n",
    "|str()| \tReturns a string version of an object|\n",
    "|type()| \tReturns the type of an object or creates a new type object|"
   ]
  },
  {
   "cell_type": "markdown",
   "metadata": {},
   "source": [
    "#### Input/Output\n",
    "|Function| \tDescription|\n",
    "| :- | --- |\n",
    "|format()| \tConverts a value to a formatted representation|\n",
    "|input()| \tReads input from the console|\n",
    "|open()| \tOpens a file and returns a file object|\n",
    "|print()| \tPrints to a text stream or the console|"
   ]
  },
  {
   "cell_type": "markdown",
   "metadata": {},
   "source": [
    "#### Variables, References, and Scope\n",
    "|Function| \tDescription|\n",
    "| :- | --- |\n",
    "|dir()| \tReturns a list of names in current local scope or a list of object attributes|\n",
    "|globals()| \tReturns a dictionary representing the current global symbol table|\n",
    "|id()| \tReturns the identity of an object|\n",
    "|locals()| \tUpdates and returns a dictionary representing current local symbol table|\n",
    "|vars()| \tReturns __dict__ attribute for a module, class, or object|"
   ]
  },
  {
   "cell_type": "code",
   "execution_count": null,
   "metadata": {
    "tags": []
   },
   "outputs": [],
   "source": [
    "i = input(\"input: \")\n",
    "print(i)"
   ]
  },
  {
   "cell_type": "markdown",
   "metadata": {},
   "source": [
    "<center> <strong>TODO rectangle.py</strong></center>\n",
    "\n",
    "Modify the script, now use user input for width and height lengths"
   ]
  },
  {
   "cell_type": "markdown",
   "metadata": {},
   "source": [
    "<center> <strong>TODO square.py</strong></center>\n",
    "\n",
    "Given the Perimeter of a Square as user input, print its Area\n",
    "- Write docstring"
   ]
  },
  {
   "cell_type": "markdown",
   "metadata": {},
   "source": [
    "<center> <strong>TODO circle.py</strong></center>\n",
    "\n",
    "Given the Circumference of a Circle as user input, print its Area\n",
    "- Write docstring"
   ]
  },
  {
   "cell_type": "markdown",
   "metadata": {},
   "source": [
    "<center> <strong>TODO regular_polygon.py</strong></center>\n",
    "\n",
    "Write a script that receives the user inputs as initial Perimeter of a polygon and its number of vertices, then print out the polygon's Area\n",
    "- Write docstring\n",
    "- Check solution from **square.py** and **circle.py**"
   ]
  },
  {
   "cell_type": "markdown",
   "metadata": {},
   "source": [
    "<center> <strong>DISPLAY plot_polygon.py</strong></center>\n"
   ]
  },
  {
   "cell_type": "markdown",
   "metadata": {},
   "source": [
    "### Reference:\n",
    "\n",
    "\n",
    "Format string"
   ]
  },
  {
   "cell_type": "markdown",
   "metadata": {},
   "source": [
    "#### realpython.com: https://realpython.com/learning-paths/python3-introduction/: \n",
    "- [Interacting with Python](https://realpython.com/interacting-with-python/)\n",
    "- [Basic Python Data Types](https://realpython.com/python-data-types/)\n",
    "- [Variables in Python](https://realpython.com/python-variables/)\n",
    "\n",
    "#### A Byte of Python: https://python.swaroopch.com/\n",
    "- [Installation](https://python.swaroopch.com/installation.html)\n",
    "- [First Steps](https://python.swaroopch.com/first_steps.html) \n",
    "- [Basics](https://python.swaroopch.com/basics.html)\n",
    "- [Operators and Expression](https://python.swaroopch.com/op_exp.html)\n",
    "\n",
    "#### List of Python built-in functions and their use: https://docs.python.org/3.6/library/functions.html#exec\n",
    "#### Floating Point Arithmetic: Issues and Limitations in Python: https://docs.python.org/3.6/tutorial/floatingpoint.html"
   ]
  }
 ],
 "metadata": {
  "kernelspec": {
   "display_name": "Python 3",
   "language": "python",
   "name": "python3"
  },
  "language_info": {
   "codemirror_mode": {
    "name": "ipython",
    "version": 3
   },
   "file_extension": ".py",
   "mimetype": "text/x-python",
   "name": "python",
   "nbconvert_exporter": "python",
   "pygments_lexer": "ipython3",
   "version": "3.7.7-final"
  }
 },
 "nbformat": 4,
 "nbformat_minor": 4
}